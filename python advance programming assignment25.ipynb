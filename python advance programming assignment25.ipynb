{
 "cells": [
  {
   "cell_type": "code",
   "execution_count": 1,
   "id": "d3757bb6",
   "metadata": {},
   "outputs": [],
   "source": [
    "#1\n",
    "def repeat(l,n):\n",
    "    return l*n\n",
    "def add(l,x):\n",
    "    l.append(x)\n",
    "    return l\n",
    "def remove(l,m,n):\n",
    "    l=l[:m]+l[n+1:]\n",
    "    return l\n",
    "def concat(l,x):\n",
    "    l.extend(x)\n",
    "    return l\n",
    "    "
   ]
  },
  {
   "cell_type": "code",
   "execution_count": 2,
   "id": "2538501d",
   "metadata": {},
   "outputs": [],
   "source": [
    "l=[1,2,3,4]"
   ]
  },
  {
   "cell_type": "code",
   "execution_count": 3,
   "id": "06145c07",
   "metadata": {},
   "outputs": [
    {
     "data": {
      "text/plain": [
       "[1, 2, 3, 4, 1, 2, 3, 4, 1, 2, 3, 4]"
      ]
     },
     "execution_count": 3,
     "metadata": {},
     "output_type": "execute_result"
    }
   ],
   "source": [
    "l=repeat(l,3)\n",
    "l"
   ]
  },
  {
   "cell_type": "code",
   "execution_count": 4,
   "id": "a7165105",
   "metadata": {},
   "outputs": [
    {
     "data": {
      "text/plain": [
       "[1, 2, 3, 4, 1, 2, 3, 4, 1, 2, 3, 4, 1]"
      ]
     },
     "execution_count": 4,
     "metadata": {},
     "output_type": "execute_result"
    }
   ],
   "source": [
    "l=add(l,1)\n",
    "l"
   ]
  },
  {
   "cell_type": "code",
   "execution_count": 5,
   "id": "a8e659e9",
   "metadata": {},
   "outputs": [
    {
     "data": {
      "text/plain": [
       "[1]"
      ]
     },
     "execution_count": 5,
     "metadata": {},
     "output_type": "execute_result"
    }
   ],
   "source": [
    "l=remove(l,1,12)\n",
    "l"
   ]
  },
  {
   "cell_type": "code",
   "execution_count": 6,
   "id": "6d696206",
   "metadata": {},
   "outputs": [
    {
     "data": {
      "text/plain": [
       "[1, 3, 4]"
      ]
     },
     "execution_count": 6,
     "metadata": {},
     "output_type": "execute_result"
    }
   ],
   "source": [
    "l=concat(l,[3,4])\n",
    "l"
   ]
  },
  {
   "cell_type": "code",
   "execution_count": 7,
   "id": "51f3f424",
   "metadata": {},
   "outputs": [],
   "source": [
    "#2\n",
    "def guess_score(s,t):\n",
    "    s=list(s)\n",
    "    t=list(t)\n",
    "    d={\"black\":0,\"white\":0}\n",
    "    m,l=[],[]\n",
    "    for i in range(len(t)):\n",
    "        if s[i]==t[i]:\n",
    "            d[\"black\"]+=1\n",
    "        else:\n",
    "            m+=t[i]\n",
    "            l+=s[i]\n",
    "    for i in  range(len(m)):\n",
    "        if l[i] in m:\n",
    "            d[\"white\"]+=1\n",
    "            m[m.index(l[i])]=\"$\"\n",
    "    return d          "
   ]
  },
  {
   "cell_type": "code",
   "execution_count": 8,
   "id": "87017c8d",
   "metadata": {},
   "outputs": [
    {
     "data": {
      "text/plain": [
       "{'black': 0, 'white': 0}"
      ]
     },
     "execution_count": 8,
     "metadata": {},
     "output_type": "execute_result"
    }
   ],
   "source": [
    "guess_score(\"1423\",\"5678\")"
   ]
  },
  {
   "cell_type": "code",
   "execution_count": 9,
   "id": "101cfa44",
   "metadata": {},
   "outputs": [
    {
     "data": {
      "text/plain": [
       "{'black': 1, 'white': 0}"
      ]
     },
     "execution_count": 9,
     "metadata": {},
     "output_type": "execute_result"
    }
   ],
   "source": [
    "guess_score(\"1423\",\"2222\")"
   ]
  },
  {
   "cell_type": "code",
   "execution_count": 10,
   "id": "58b3db8d",
   "metadata": {},
   "outputs": [
    {
     "data": {
      "text/plain": [
       "{'black': 1, 'white': 3}"
      ]
     },
     "execution_count": 10,
     "metadata": {},
     "output_type": "execute_result"
    }
   ],
   "source": [
    "guess_score(\"1423\",\"1234\")"
   ]
  },
  {
   "cell_type": "code",
   "execution_count": 11,
   "id": "a4a30860",
   "metadata": {},
   "outputs": [
    {
     "data": {
      "text/plain": [
       "{'black': 0, 'white': 2}"
      ]
     },
     "execution_count": 11,
     "metadata": {},
     "output_type": "execute_result"
    }
   ],
   "source": [
    "guess_score(\"1423\",\"2211\")"
   ]
  },
  {
   "cell_type": "code",
   "execution_count": 12,
   "id": "803a8558",
   "metadata": {},
   "outputs": [],
   "source": [
    "#3\n",
    "def two_product(l,n):\n",
    "    for i in range(len(l)):\n",
    "        if n/l[i] in l[:i]+l[i+1:]:\n",
    "            return [l[i],n//l[i]]\n",
    "    return \"None\""
   ]
  },
  {
   "cell_type": "code",
   "execution_count": 13,
   "id": "b8b1710f",
   "metadata": {},
   "outputs": [
    {
     "data": {
      "text/plain": [
       "[4, 5]"
      ]
     },
     "execution_count": 13,
     "metadata": {},
     "output_type": "execute_result"
    }
   ],
   "source": [
    "two_product([1, 2, -1, 4, 5], 20)"
   ]
  },
  {
   "cell_type": "code",
   "execution_count": 14,
   "id": "7ad4c94e",
   "metadata": {},
   "outputs": [
    {
     "data": {
      "text/plain": [
       "[2, 5]"
      ]
     },
     "execution_count": 14,
     "metadata": {},
     "output_type": "execute_result"
    }
   ],
   "source": [
    "two_product([1, 2, 3, 4, 5], 10)"
   ]
  },
  {
   "cell_type": "code",
   "execution_count": 15,
   "id": "816b7806",
   "metadata": {},
   "outputs": [
    {
     "data": {
      "text/plain": [
       "'None'"
      ]
     },
     "execution_count": 15,
     "metadata": {},
     "output_type": "execute_result"
    }
   ],
   "source": [
    "two_product([100, 12, 4, 1, 2], 15)"
   ]
  },
  {
   "cell_type": "code",
   "execution_count": 16,
   "id": "ab958f3b",
   "metadata": {},
   "outputs": [],
   "source": [
    "#4.\n",
    "from datetime import datetime\n",
    "def sort_dates(l,s):    \n",
    "    l.sort(key=lambda date: datetime.strptime(date, '%d-%m-%Y_%H:%M'))\n",
    "    if s==\"ASC\":\n",
    "        return l\n",
    "    else:\n",
    "        return l[::-1]"
   ]
  },
  {
   "cell_type": "code",
   "execution_count": 17,
   "id": "24e6a664",
   "metadata": {},
   "outputs": [
    {
     "data": {
      "text/plain": [
       "['10-02-2016_12:30', '10-02-2018_12:15', '10-02-2018_12:30']"
      ]
     },
     "execution_count": 17,
     "metadata": {},
     "output_type": "execute_result"
    }
   ],
   "source": [
    "sort_dates([\"10-02-2018_12:30\", \"10-02-2016_12:30\", \"10-02-2018_12:15\"], \"ASC\") "
   ]
  },
  {
   "cell_type": "code",
   "execution_count": 18,
   "id": "5c4d5c4c",
   "metadata": {},
   "outputs": [
    {
     "data": {
      "text/plain": [
       "['10-02-2018_12:30', '10-02-2018_12:15', '10-02-2016_12:30']"
      ]
     },
     "execution_count": 18,
     "metadata": {},
     "output_type": "execute_result"
    }
   ],
   "source": [
    "sort_dates([\"10-02-2018_12:30\", \"10-02-2016_12:30\", \"10-02-2018_12:15\"], \"DSC\") "
   ]
  },
  {
   "cell_type": "code",
   "execution_count": 19,
   "id": "6183b0a4",
   "metadata": {},
   "outputs": [
    {
     "data": {
      "text/plain": [
       "['01-01-1999_00:55', '09-02-2000_10:03', '10-02-2000_18:29']"
      ]
     },
     "execution_count": 19,
     "metadata": {},
     "output_type": "execute_result"
    }
   ],
   "source": [
    "sort_dates([\"09-02-2000_10:03\", \"10-02-2000_18:29\", \"01-01-1999_00:55\"], \"ASC\") "
   ]
  },
  {
   "cell_type": "code",
   "execution_count": 20,
   "id": "b270198e",
   "metadata": {},
   "outputs": [],
   "source": [
    "#5\n",
    "def same_vowel_group(l):\n",
    "    m=[]\n",
    "    v=\"aeiou\"\n",
    "    for i in l:\n",
    "        s=[]\n",
    "        for j in i:\n",
    "            if j in v:\n",
    "                s+=j           \n",
    "        m.append(set(s))\n",
    "    s=[]\n",
    "    for i in range(len(m)):\n",
    "        if m[i]==m[0]:\n",
    "            s.append(l[i])\n",
    "    return s   "
   ]
  },
  {
   "cell_type": "code",
   "execution_count": 21,
   "id": "aed1586b",
   "metadata": {},
   "outputs": [
    {
     "data": {
      "text/plain": [
       "['toe', 'ocelot']"
      ]
     },
     "execution_count": 21,
     "metadata": {},
     "output_type": "execute_result"
    }
   ],
   "source": [
    "same_vowel_group([\"toe\", \"ocelot\", \"maniac\"]) "
   ]
  },
  {
   "cell_type": "code",
   "execution_count": 22,
   "id": "61d36229",
   "metadata": {},
   "outputs": [
    {
     "data": {
      "text/plain": [
       "['many']"
      ]
     },
     "execution_count": 22,
     "metadata": {},
     "output_type": "execute_result"
    }
   ],
   "source": [
    "same_vowel_group([\"many\", \"carriage\", \"emit\", \"apricot\", \"animal\"])"
   ]
  },
  {
   "cell_type": "code",
   "execution_count": 23,
   "id": "01de16d7",
   "metadata": {},
   "outputs": [
    {
     "data": {
      "text/plain": [
       "['hoops', 'bot', 'bottom']"
      ]
     },
     "execution_count": 23,
     "metadata": {},
     "output_type": "execute_result"
    }
   ],
   "source": [
    "same_vowel_group([\"hoops\", \"chuff\", \"bot\", \"bottom\"]) "
   ]
  },
  {
   "cell_type": "code",
   "execution_count": 24,
   "id": "2d385470",
   "metadata": {},
   "outputs": [],
   "source": [
    "#6\n",
    "import math\n",
    "def lcm_of_list(l):\n",
    "    m=math.lcm(l[0],l[1])\n",
    "    for i in range(2,len(l)):\n",
    "        m=math.lcm(m,l[i])\n",
    "    return m\n",
    "    "
   ]
  },
  {
   "cell_type": "code",
   "execution_count": 25,
   "id": "13b83c63",
   "metadata": {},
   "outputs": [
    {
     "data": {
      "text/plain": [
       "2520"
      ]
     },
     "execution_count": 25,
     "metadata": {},
     "output_type": "execute_result"
    }
   ],
   "source": [
    "lcm_of_list([1, 2, 3, 4, 5, 6, 7, 8, 9, 10])"
   ]
  },
  {
   "cell_type": "code",
   "execution_count": 26,
   "id": "ef0460af",
   "metadata": {},
   "outputs": [
    {
     "data": {
      "text/plain": [
       "27965340"
      ]
     },
     "execution_count": 26,
     "metadata": {},
     "output_type": "execute_result"
    }
   ],
   "source": [
    "lcm_of_list([13, 6, 17, 18, 19, 20, 37])"
   ]
  },
  {
   "cell_type": "code",
   "execution_count": 27,
   "id": "58640e9a",
   "metadata": {},
   "outputs": [
    {
     "data": {
      "text/plain": [
       "2333760"
      ]
     },
     "execution_count": 27,
     "metadata": {},
     "output_type": "execute_result"
    }
   ],
   "source": [
    "lcm_of_list([44, 64, 12, 17, 65])"
   ]
  },
  {
   "cell_type": "code",
   "execution_count": null,
   "id": "8c6b0144",
   "metadata": {},
   "outputs": [],
   "source": []
  }
 ],
 "metadata": {
  "kernelspec": {
   "display_name": "Python 3 (ipykernel)",
   "language": "python",
   "name": "python3"
  },
  "language_info": {
   "codemirror_mode": {
    "name": "ipython",
    "version": 3
   },
   "file_extension": ".py",
   "mimetype": "text/x-python",
   "name": "python",
   "nbconvert_exporter": "python",
   "pygments_lexer": "ipython3",
   "version": "3.10.9"
  }
 },
 "nbformat": 4,
 "nbformat_minor": 5
}
